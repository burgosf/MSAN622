{
 "metadata": {
  "name": "",
  "signature": "sha256:69c50cc0f615c95ef88d7a044cdf214112ad73281c4221aa85af6fa15b377670"
 },
 "nbformat": 3,
 "nbformat_minor": 0,
 "worksheets": [
  {
   "cells": [
    {
     "cell_type": "code",
     "collapsed": false,
     "input": [
      "import pandas as pd\n",
      "import numpy as np\n",
      "import sys\n",
      "\n",
      "import matplotlib.pyplot as plt\n",
      "%matplotlib inline"
     ],
     "language": "python",
     "metadata": {},
     "outputs": [],
     "prompt_number": 9
    },
    {
     "cell_type": "code",
     "collapsed": false,
     "input": [
      "filepath = \"/Users/flo/Desktop/MSAN/MSAN622/MSAN622/Homework3/\""
     ],
     "language": "python",
     "metadata": {},
     "outputs": [],
     "prompt_number": 10
    },
    {
     "cell_type": "code",
     "collapsed": false,
     "input": [
      "data=pd.read_csv(filepath+'Seatbelts.csv')\n",
      "print \"data loaded\"\n",
      "print data.shape"
     ],
     "language": "python",
     "metadata": {},
     "outputs": [
      {
       "output_type": "stream",
       "stream": "stdout",
       "text": [
        "data loaded\n",
        "(192, 13)\n"
       ]
      }
     ],
     "prompt_number": 11
    },
    {
     "cell_type": "code",
     "collapsed": false,
     "input": [
      "data.head()"
     ],
     "language": "python",
     "metadata": {},
     "outputs": [
      {
       "html": [
        "<div style=\"max-height:1000px;max-width:1500px;overflow:auto;\">\n",
        "<table border=\"1\" class=\"dataframe\">\n",
        "  <thead>\n",
        "    <tr style=\"text-align: right;\">\n",
        "      <th></th>\n",
        "      <th>DriversKilled</th>\n",
        "      <th>drivers</th>\n",
        "      <th>front</th>\n",
        "      <th>rear</th>\n",
        "      <th>kms</th>\n",
        "      <th>PetrolPrice</th>\n",
        "      <th>VanKilled</th>\n",
        "      <th>law</th>\n",
        "      <th>time</th>\n",
        "      <th>asof_date</th>\n",
        "      <th>hour</th>\n",
        "      <th>day</th>\n",
        "      <th>value</th>\n",
        "    </tr>\n",
        "  </thead>\n",
        "  <tbody>\n",
        "    <tr>\n",
        "      <th>0</th>\n",
        "      <td> 107</td>\n",
        "      <td> 1687</td>\n",
        "      <td> 867</td>\n",
        "      <td> 269</td>\n",
        "      <td>  9059</td>\n",
        "      <td> 0.102972</td>\n",
        "      <td> 12</td>\n",
        "      <td> 0</td>\n",
        "      <td> 1969-01-01</td>\n",
        "      <td> 1969-01-01</td>\n",
        "      <td> 1</td>\n",
        "      <td> 1969</td>\n",
        "      <td>  9059</td>\n",
        "    </tr>\n",
        "    <tr>\n",
        "      <th>1</th>\n",
        "      <td>  97</td>\n",
        "      <td> 1508</td>\n",
        "      <td> 825</td>\n",
        "      <td> 265</td>\n",
        "      <td>  7685</td>\n",
        "      <td> 0.102363</td>\n",
        "      <td>  6</td>\n",
        "      <td> 0</td>\n",
        "      <td> 1969-02-01</td>\n",
        "      <td> 1969-02-01</td>\n",
        "      <td> 2</td>\n",
        "      <td> 1969</td>\n",
        "      <td>  7685</td>\n",
        "    </tr>\n",
        "    <tr>\n",
        "      <th>2</th>\n",
        "      <td> 102</td>\n",
        "      <td> 1507</td>\n",
        "      <td> 806</td>\n",
        "      <td> 319</td>\n",
        "      <td>  9963</td>\n",
        "      <td> 0.102062</td>\n",
        "      <td> 12</td>\n",
        "      <td> 0</td>\n",
        "      <td> 1969-03-01</td>\n",
        "      <td> 1969-03-01</td>\n",
        "      <td> 3</td>\n",
        "      <td> 1969</td>\n",
        "      <td>  9963</td>\n",
        "    </tr>\n",
        "    <tr>\n",
        "      <th>3</th>\n",
        "      <td>  87</td>\n",
        "      <td> 1385</td>\n",
        "      <td> 814</td>\n",
        "      <td> 407</td>\n",
        "      <td> 10955</td>\n",
        "      <td> 0.100873</td>\n",
        "      <td>  8</td>\n",
        "      <td> 0</td>\n",
        "      <td> 1969-04-01</td>\n",
        "      <td> 1969-04-01</td>\n",
        "      <td> 4</td>\n",
        "      <td> 1969</td>\n",
        "      <td> 10955</td>\n",
        "    </tr>\n",
        "    <tr>\n",
        "      <th>4</th>\n",
        "      <td> 119</td>\n",
        "      <td> 1632</td>\n",
        "      <td> 991</td>\n",
        "      <td> 454</td>\n",
        "      <td> 11823</td>\n",
        "      <td> 0.101020</td>\n",
        "      <td> 10</td>\n",
        "      <td> 0</td>\n",
        "      <td> 1969-05-01</td>\n",
        "      <td> 1969-05-01</td>\n",
        "      <td> 5</td>\n",
        "      <td> 1969</td>\n",
        "      <td> 11823</td>\n",
        "    </tr>\n",
        "  </tbody>\n",
        "</table>\n",
        "</div>"
       ],
       "metadata": {},
       "output_type": "pyout",
       "prompt_number": 4,
       "text": [
        "   DriversKilled  drivers  front  rear    kms  PetrolPrice  VanKilled  law  \\\n",
        "0            107     1687    867   269   9059     0.102972         12    0   \n",
        "1             97     1508    825   265   7685     0.102363          6    0   \n",
        "2            102     1507    806   319   9963     0.102062         12    0   \n",
        "3             87     1385    814   407  10955     0.100873          8    0   \n",
        "4            119     1632    991   454  11823     0.101020         10    0   \n",
        "\n",
        "         time   asof_date  hour   day  value  \n",
        "0  1969-01-01  1969-01-01     1  1969   9059  \n",
        "1  1969-02-01  1969-02-01     2  1969   7685  \n",
        "2  1969-03-01  1969-03-01     3  1969   9963  \n",
        "3  1969-04-01  1969-04-01     4  1969  10955  \n",
        "4  1969-05-01  1969-05-01     5  1969  11823  "
       ]
      }
     ],
     "prompt_number": 4
    },
    {
     "cell_type": "code",
     "collapsed": false,
     "input": [
      "data['asof_date'] = pd.to_datetime(data.time).map(pd.Timestamp.date)"
     ],
     "language": "python",
     "metadata": {},
     "outputs": [],
     "prompt_number": 9
    },
    {
     "cell_type": "code",
     "collapsed": false,
     "input": [
      "data.head()"
     ],
     "language": "python",
     "metadata": {},
     "outputs": [
      {
       "html": [
        "<div style=\"max-height:1000px;max-width:1500px;overflow:auto;\">\n",
        "<table border=\"1\" class=\"dataframe\">\n",
        "  <thead>\n",
        "    <tr style=\"text-align: right;\">\n",
        "      <th></th>\n",
        "      <th>DriversKilled</th>\n",
        "      <th>drivers</th>\n",
        "      <th>front</th>\n",
        "      <th>rear</th>\n",
        "      <th>kms</th>\n",
        "      <th>PetrolPrice</th>\n",
        "      <th>VanKilled</th>\n",
        "      <th>law</th>\n",
        "      <th>time</th>\n",
        "      <th>asof_date</th>\n",
        "    </tr>\n",
        "  </thead>\n",
        "  <tbody>\n",
        "    <tr>\n",
        "      <th>0</th>\n",
        "      <td> 107</td>\n",
        "      <td> 1687</td>\n",
        "      <td> 867</td>\n",
        "      <td> 269</td>\n",
        "      <td>  9059</td>\n",
        "      <td> 0.102972</td>\n",
        "      <td> 12</td>\n",
        "      <td> 0</td>\n",
        "      <td> 1969-01-01</td>\n",
        "      <td> 1969-01-01</td>\n",
        "    </tr>\n",
        "    <tr>\n",
        "      <th>1</th>\n",
        "      <td>  97</td>\n",
        "      <td> 1508</td>\n",
        "      <td> 825</td>\n",
        "      <td> 265</td>\n",
        "      <td>  7685</td>\n",
        "      <td> 0.102363</td>\n",
        "      <td>  6</td>\n",
        "      <td> 0</td>\n",
        "      <td> 1969-02-01</td>\n",
        "      <td> 1969-02-01</td>\n",
        "    </tr>\n",
        "    <tr>\n",
        "      <th>2</th>\n",
        "      <td> 102</td>\n",
        "      <td> 1507</td>\n",
        "      <td> 806</td>\n",
        "      <td> 319</td>\n",
        "      <td>  9963</td>\n",
        "      <td> 0.102062</td>\n",
        "      <td> 12</td>\n",
        "      <td> 0</td>\n",
        "      <td> 1969-03-01</td>\n",
        "      <td> 1969-03-01</td>\n",
        "    </tr>\n",
        "    <tr>\n",
        "      <th>3</th>\n",
        "      <td>  87</td>\n",
        "      <td> 1385</td>\n",
        "      <td> 814</td>\n",
        "      <td> 407</td>\n",
        "      <td> 10955</td>\n",
        "      <td> 0.100873</td>\n",
        "      <td>  8</td>\n",
        "      <td> 0</td>\n",
        "      <td> 1969-04-01</td>\n",
        "      <td> 1969-04-01</td>\n",
        "    </tr>\n",
        "    <tr>\n",
        "      <th>4</th>\n",
        "      <td> 119</td>\n",
        "      <td> 1632</td>\n",
        "      <td> 991</td>\n",
        "      <td> 454</td>\n",
        "      <td> 11823</td>\n",
        "      <td> 0.101020</td>\n",
        "      <td> 10</td>\n",
        "      <td> 0</td>\n",
        "      <td> 1969-05-01</td>\n",
        "      <td> 1969-05-01</td>\n",
        "    </tr>\n",
        "  </tbody>\n",
        "</table>\n",
        "</div>"
       ],
       "metadata": {},
       "output_type": "pyout",
       "prompt_number": 10,
       "text": [
        "   DriversKilled  drivers  front  rear    kms  PetrolPrice  VanKilled  law  \\\n",
        "0            107     1687    867   269   9059     0.102972         12    0   \n",
        "1             97     1508    825   265   7685     0.102363          6    0   \n",
        "2            102     1507    806   319   9963     0.102062         12    0   \n",
        "3             87     1385    814   407  10955     0.100873          8    0   \n",
        "4            119     1632    991   454  11823     0.101020         10    0   \n",
        "\n",
        "         time   asof_date  \n",
        "0  1969-01-01  1969-01-01  \n",
        "1  1969-02-01  1969-02-01  \n",
        "2  1969-03-01  1969-03-01  \n",
        "3  1969-04-01  1969-04-01  \n",
        "4  1969-05-01  1969-05-01  "
       ]
      }
     ],
     "prompt_number": 10
    },
    {
     "cell_type": "code",
     "collapsed": false,
     "input": [
      "data['hour'] = data.asof_date.map(lambda x: x.month)\n",
      "data['day'] = data.asof_date.map(lambda x: x.year)\n",
      "data['value'] = data.kms"
     ],
     "language": "python",
     "metadata": {},
     "outputs": [],
     "prompt_number": 24
    },
    {
     "cell_type": "code",
     "collapsed": false,
     "input": [
      "data.head()"
     ],
     "language": "python",
     "metadata": {},
     "outputs": [
      {
       "html": [
        "<div style=\"max-height:1000px;max-width:1500px;overflow:auto;\">\n",
        "<table border=\"1\" class=\"dataframe\">\n",
        "  <thead>\n",
        "    <tr style=\"text-align: right;\">\n",
        "      <th></th>\n",
        "      <th>DriversKilled</th>\n",
        "      <th>drivers</th>\n",
        "      <th>front</th>\n",
        "      <th>rear</th>\n",
        "      <th>kms</th>\n",
        "      <th>PetrolPrice</th>\n",
        "      <th>VanKilled</th>\n",
        "      <th>law</th>\n",
        "      <th>time</th>\n",
        "      <th>asof_date</th>\n",
        "      <th>hour</th>\n",
        "      <th>day</th>\n",
        "      <th>value</th>\n",
        "    </tr>\n",
        "  </thead>\n",
        "  <tbody>\n",
        "    <tr>\n",
        "      <th>0</th>\n",
        "      <td> 107</td>\n",
        "      <td> 1687</td>\n",
        "      <td> 867</td>\n",
        "      <td> 269</td>\n",
        "      <td>  9059</td>\n",
        "      <td> 0.102972</td>\n",
        "      <td> 12</td>\n",
        "      <td> 0</td>\n",
        "      <td> 1969-01-01</td>\n",
        "      <td> 1969-01-01</td>\n",
        "      <td> 1</td>\n",
        "      <td> 1969</td>\n",
        "      <td>  9059</td>\n",
        "    </tr>\n",
        "    <tr>\n",
        "      <th>1</th>\n",
        "      <td>  97</td>\n",
        "      <td> 1508</td>\n",
        "      <td> 825</td>\n",
        "      <td> 265</td>\n",
        "      <td>  7685</td>\n",
        "      <td> 0.102363</td>\n",
        "      <td>  6</td>\n",
        "      <td> 0</td>\n",
        "      <td> 1969-02-01</td>\n",
        "      <td> 1969-02-01</td>\n",
        "      <td> 2</td>\n",
        "      <td> 1969</td>\n",
        "      <td>  7685</td>\n",
        "    </tr>\n",
        "    <tr>\n",
        "      <th>2</th>\n",
        "      <td> 102</td>\n",
        "      <td> 1507</td>\n",
        "      <td> 806</td>\n",
        "      <td> 319</td>\n",
        "      <td>  9963</td>\n",
        "      <td> 0.102062</td>\n",
        "      <td> 12</td>\n",
        "      <td> 0</td>\n",
        "      <td> 1969-03-01</td>\n",
        "      <td> 1969-03-01</td>\n",
        "      <td> 3</td>\n",
        "      <td> 1969</td>\n",
        "      <td>  9963</td>\n",
        "    </tr>\n",
        "    <tr>\n",
        "      <th>3</th>\n",
        "      <td>  87</td>\n",
        "      <td> 1385</td>\n",
        "      <td> 814</td>\n",
        "      <td> 407</td>\n",
        "      <td> 10955</td>\n",
        "      <td> 0.100873</td>\n",
        "      <td>  8</td>\n",
        "      <td> 0</td>\n",
        "      <td> 1969-04-01</td>\n",
        "      <td> 1969-04-01</td>\n",
        "      <td> 4</td>\n",
        "      <td> 1969</td>\n",
        "      <td> 10955</td>\n",
        "    </tr>\n",
        "    <tr>\n",
        "      <th>4</th>\n",
        "      <td> 119</td>\n",
        "      <td> 1632</td>\n",
        "      <td> 991</td>\n",
        "      <td> 454</td>\n",
        "      <td> 11823</td>\n",
        "      <td> 0.101020</td>\n",
        "      <td> 10</td>\n",
        "      <td> 0</td>\n",
        "      <td> 1969-05-01</td>\n",
        "      <td> 1969-05-01</td>\n",
        "      <td> 5</td>\n",
        "      <td> 1969</td>\n",
        "      <td> 11823</td>\n",
        "    </tr>\n",
        "  </tbody>\n",
        "</table>\n",
        "</div>"
       ],
       "metadata": {},
       "output_type": "pyout",
       "prompt_number": 25,
       "text": [
        "   DriversKilled  drivers  front  rear    kms  PetrolPrice  VanKilled  law  \\\n",
        "0            107     1687    867   269   9059     0.102972         12    0   \n",
        "1             97     1508    825   265   7685     0.102363          6    0   \n",
        "2            102     1507    806   319   9963     0.102062         12    0   \n",
        "3             87     1385    814   407  10955     0.100873          8    0   \n",
        "4            119     1632    991   454  11823     0.101020         10    0   \n",
        "\n",
        "         time   asof_date  hour   day  value  \n",
        "0  1969-01-01  1969-01-01     1  1969   9059  \n",
        "1  1969-02-01  1969-02-01     2  1969   7685  \n",
        "2  1969-03-01  1969-03-01     3  1969   9963  \n",
        "3  1969-04-01  1969-04-01     4  1969  10955  \n",
        "4  1969-05-01  1969-05-01     5  1969  11823  "
       ]
      }
     ],
     "prompt_number": 25
    },
    {
     "cell_type": "code",
     "collapsed": false,
     "input": [
      "data.to_csv(filepath+'Seatbelts.csv',index=False)"
     ],
     "language": "python",
     "metadata": {},
     "outputs": [],
     "prompt_number": 26
    },
    {
     "cell_type": "code",
     "collapsed": false,
     "input": [],
     "language": "python",
     "metadata": {},
     "outputs": []
    },
    {
     "cell_type": "code",
     "collapsed": false,
     "input": [
      "data['front'] = data.front - data.rear"
     ],
     "language": "python",
     "metadata": {},
     "outputs": [],
     "prompt_number": 14
    },
    {
     "cell_type": "code",
     "collapsed": false,
     "input": [
      "data = data[['front', 'rear', 'time']]"
     ],
     "language": "python",
     "metadata": {},
     "outputs": [],
     "prompt_number": 15
    },
    {
     "cell_type": "code",
     "collapsed": false,
     "input": [],
     "language": "python",
     "metadata": {},
     "outputs": []
    },
    {
     "cell_type": "code",
     "collapsed": false,
     "input": [],
     "language": "python",
     "metadata": {},
     "outputs": []
    },
    {
     "cell_type": "code",
     "collapsed": false,
     "input": [],
     "language": "python",
     "metadata": {},
     "outputs": []
    },
    {
     "cell_type": "code",
     "collapsed": false,
     "input": [],
     "language": "python",
     "metadata": {},
     "outputs": []
    },
    {
     "cell_type": "code",
     "collapsed": false,
     "input": [
      "data.to_csv(filepath+'stacked.csv',index=False)"
     ],
     "language": "python",
     "metadata": {},
     "outputs": [],
     "prompt_number": 16
    },
    {
     "cell_type": "code",
     "collapsed": false,
     "input": [],
     "language": "python",
     "metadata": {},
     "outputs": []
    },
    {
     "cell_type": "code",
     "collapsed": false,
     "input": [
      "import multiprocessing as mp"
     ],
     "language": "python",
     "metadata": {},
     "outputs": [],
     "prompt_number": 17
    },
    {
     "cell_type": "code",
     "collapsed": false,
     "input": [
      "ncores = mp.cpu_count()"
     ],
     "language": "python",
     "metadata": {},
     "outputs": [],
     "prompt_number": 18
    },
    {
     "cell_type": "code",
     "collapsed": false,
     "input": [
      "ncores"
     ],
     "language": "python",
     "metadata": {},
     "outputs": [
      {
       "metadata": {},
       "output_type": "pyout",
       "prompt_number": 19,
       "text": [
        "4"
       ]
      }
     ],
     "prompt_number": 19
    },
    {
     "cell_type": "code",
     "collapsed": false,
     "input": [
      "%%time\n",
      "t=0"
     ],
     "language": "python",
     "metadata": {},
     "outputs": [
      {
       "output_type": "stream",
       "stream": "stdout",
       "text": [
        "CPU times: user 3 \u00b5s, sys: 0 ns, total: 3 \u00b5s\n",
        "Wall time: 5.96 \u00b5s\n"
       ]
      }
     ],
     "prompt_number": 21
    },
    {
     "cell_type": "code",
     "collapsed": false,
     "input": [],
     "language": "python",
     "metadata": {},
     "outputs": []
    }
   ],
   "metadata": {}
  }
 ]
}