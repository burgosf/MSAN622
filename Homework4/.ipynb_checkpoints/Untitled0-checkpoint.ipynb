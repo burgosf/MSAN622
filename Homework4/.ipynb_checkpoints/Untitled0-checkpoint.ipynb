{
 "metadata": {
  "name": "",
  "signature": "sha256:c29f1293eb3e5c47f064ea337df799f3b75f29089399fb614e8cb51cdc8a73f5"
 },
 "nbformat": 3,
 "nbformat_minor": 0,
 "worksheets": [
  {
   "cells": [
    {
     "cell_type": "code",
     "collapsed": false,
     "input": [
      "import pandas as pd\n",
      "import numpy as np\n",
      "import sys\n",
      "\n",
      "import matplotlib.pyplot as plt\n",
      "%matplotlib inline"
     ],
     "language": "python",
     "metadata": {},
     "outputs": [],
     "prompt_number": 11
    },
    {
     "cell_type": "code",
     "collapsed": false,
     "input": [
      "filepath = \"/Users/flo/Desktop/MSAN/MSAN622/MSAN622/Homework4/\""
     ],
     "language": "python",
     "metadata": {},
     "outputs": [],
     "prompt_number": 12
    },
    {
     "cell_type": "code",
     "collapsed": false,
     "input": [
      "data=pd.read_csv(filepath+'movies.csv')\n",
      "print \"data loaded\"\n",
      "print data.shape"
     ],
     "language": "python",
     "metadata": {},
     "outputs": [
      {
       "output_type": "stream",
       "stream": "stdout",
       "text": [
        "data loaded\n",
        "(58788, 24)\n"
       ]
      }
     ],
     "prompt_number": 13
    },
    {
     "cell_type": "code",
     "collapsed": false,
     "input": [
      "data.head()"
     ],
     "language": "python",
     "metadata": {},
     "outputs": [
      {
       "html": [
        "<div style=\"max-height:1000px;max-width:1500px;overflow:auto;\">\n",
        "<table border=\"1\" class=\"dataframe\">\n",
        "  <thead>\n",
        "    <tr style=\"text-align: right;\">\n",
        "      <th></th>\n",
        "      <th>title</th>\n",
        "      <th>year</th>\n",
        "      <th>length</th>\n",
        "      <th>budget</th>\n",
        "      <th>rating</th>\n",
        "      <th>votes</th>\n",
        "      <th>r1</th>\n",
        "      <th>r2</th>\n",
        "      <th>r3</th>\n",
        "      <th>r4</th>\n",
        "      <th>...</th>\n",
        "      <th>r9</th>\n",
        "      <th>r10</th>\n",
        "      <th>mpaa</th>\n",
        "      <th>Action</th>\n",
        "      <th>Animation</th>\n",
        "      <th>Comedy</th>\n",
        "      <th>Drama</th>\n",
        "      <th>Documentary</th>\n",
        "      <th>Romance</th>\n",
        "      <th>Short</th>\n",
        "    </tr>\n",
        "  </thead>\n",
        "  <tbody>\n",
        "    <tr>\n",
        "      <th>0</th>\n",
        "      <td>                        $</td>\n",
        "      <td> 1971</td>\n",
        "      <td> 121</td>\n",
        "      <td>NaN</td>\n",
        "      <td> 6.4</td>\n",
        "      <td> 348</td>\n",
        "      <td>  4.5</td>\n",
        "      <td>  4.5</td>\n",
        "      <td> 4.5</td>\n",
        "      <td>  4.5</td>\n",
        "      <td>...</td>\n",
        "      <td>  4.5</td>\n",
        "      <td>  4.5</td>\n",
        "      <td> NaN</td>\n",
        "      <td> 0</td>\n",
        "      <td> 0</td>\n",
        "      <td> 1</td>\n",
        "      <td> 1</td>\n",
        "      <td> 0</td>\n",
        "      <td> 0</td>\n",
        "      <td> 0</td>\n",
        "    </tr>\n",
        "    <tr>\n",
        "      <th>1</th>\n",
        "      <td>        $1000 a Touchdown</td>\n",
        "      <td> 1939</td>\n",
        "      <td>  71</td>\n",
        "      <td>NaN</td>\n",
        "      <td> 6.0</td>\n",
        "      <td>  20</td>\n",
        "      <td>  0.0</td>\n",
        "      <td> 14.5</td>\n",
        "      <td> 4.5</td>\n",
        "      <td> 24.5</td>\n",
        "      <td>...</td>\n",
        "      <td>  4.5</td>\n",
        "      <td> 14.5</td>\n",
        "      <td> NaN</td>\n",
        "      <td> 0</td>\n",
        "      <td> 0</td>\n",
        "      <td> 1</td>\n",
        "      <td> 0</td>\n",
        "      <td> 0</td>\n",
        "      <td> 0</td>\n",
        "      <td> 0</td>\n",
        "    </tr>\n",
        "    <tr>\n",
        "      <th>2</th>\n",
        "      <td>   $21 a Day Once a Month</td>\n",
        "      <td> 1941</td>\n",
        "      <td>   7</td>\n",
        "      <td>NaN</td>\n",
        "      <td> 8.2</td>\n",
        "      <td>   5</td>\n",
        "      <td>  0.0</td>\n",
        "      <td>  0.0</td>\n",
        "      <td> 0.0</td>\n",
        "      <td>  0.0</td>\n",
        "      <td>...</td>\n",
        "      <td> 24.5</td>\n",
        "      <td> 24.5</td>\n",
        "      <td> NaN</td>\n",
        "      <td> 0</td>\n",
        "      <td> 1</td>\n",
        "      <td> 0</td>\n",
        "      <td> 0</td>\n",
        "      <td> 0</td>\n",
        "      <td> 0</td>\n",
        "      <td> 1</td>\n",
        "    </tr>\n",
        "    <tr>\n",
        "      <th>3</th>\n",
        "      <td>                  $40,000</td>\n",
        "      <td> 1996</td>\n",
        "      <td>  70</td>\n",
        "      <td>NaN</td>\n",
        "      <td> 8.2</td>\n",
        "      <td>   6</td>\n",
        "      <td> 14.5</td>\n",
        "      <td>  0.0</td>\n",
        "      <td> 0.0</td>\n",
        "      <td>  0.0</td>\n",
        "      <td>...</td>\n",
        "      <td> 34.5</td>\n",
        "      <td> 45.5</td>\n",
        "      <td> NaN</td>\n",
        "      <td> 0</td>\n",
        "      <td> 0</td>\n",
        "      <td> 1</td>\n",
        "      <td> 0</td>\n",
        "      <td> 0</td>\n",
        "      <td> 0</td>\n",
        "      <td> 0</td>\n",
        "    </tr>\n",
        "    <tr>\n",
        "      <th>4</th>\n",
        "      <td> $50,000 Climax Show, The</td>\n",
        "      <td> 1975</td>\n",
        "      <td>  71</td>\n",
        "      <td>NaN</td>\n",
        "      <td> 3.4</td>\n",
        "      <td>  17</td>\n",
        "      <td> 24.5</td>\n",
        "      <td>  4.5</td>\n",
        "      <td> 0.0</td>\n",
        "      <td> 14.5</td>\n",
        "      <td>...</td>\n",
        "      <td>  0.0</td>\n",
        "      <td> 24.5</td>\n",
        "      <td> NaN</td>\n",
        "      <td> 0</td>\n",
        "      <td> 0</td>\n",
        "      <td> 0</td>\n",
        "      <td> 0</td>\n",
        "      <td> 0</td>\n",
        "      <td> 0</td>\n",
        "      <td> 0</td>\n",
        "    </tr>\n",
        "  </tbody>\n",
        "</table>\n",
        "<p>5 rows \u00d7 24 columns</p>\n",
        "</div>"
       ],
       "metadata": {},
       "output_type": "pyout",
       "prompt_number": 14,
       "text": [
        "                      title  year  length  budget  rating  votes    r1    r2  \\\n",
        "0                         $  1971     121     NaN     6.4    348   4.5   4.5   \n",
        "1         $1000 a Touchdown  1939      71     NaN     6.0     20   0.0  14.5   \n",
        "2    $21 a Day Once a Month  1941       7     NaN     8.2      5   0.0   0.0   \n",
        "3                   $40,000  1996      70     NaN     8.2      6  14.5   0.0   \n",
        "4  $50,000 Climax Show, The  1975      71     NaN     3.4     17  24.5   4.5   \n",
        "\n",
        "    r3    r4  ...      r9   r10  mpaa  Action  Animation  Comedy Drama  \\\n",
        "0  4.5   4.5  ...     4.5   4.5   NaN       0          0       1     1   \n",
        "1  4.5  24.5  ...     4.5  14.5   NaN       0          0       1     0   \n",
        "2  0.0   0.0  ...    24.5  24.5   NaN       0          1       0     0   \n",
        "3  0.0   0.0  ...    34.5  45.5   NaN       0          0       1     0   \n",
        "4  0.0  14.5  ...     0.0  24.5   NaN       0          0       0     0   \n",
        "\n",
        "   Documentary  Romance  Short  \n",
        "0            0        0      0  \n",
        "1            0        0      0  \n",
        "2            0        0      1  \n",
        "3            0        0      0  \n",
        "4            0        0      0  \n",
        "\n",
        "[5 rows x 24 columns]"
       ]
      }
     ],
     "prompt_number": 14
    },
    {
     "cell_type": "code",
     "collapsed": false,
     "input": [
      "results = pd.DataFrame(columns=['year', 'Action', 'Animation', 'Comedy', 'Drama', 'Documentary', 'Romance', 'Short'], index=np.arange(1995, 2005, 1))\n",
      "results.year = np.arange(1995, 2005, 1)\n",
      "genres = ['Action', 'Animation', 'Comedy', 'Drama', 'Documentary', 'Romance', 'Short']\n",
      "for genre in genres:\n",
      "    subset = data[data[genre]==1]\n",
      "    grouped_year = subset.groupby(['year'])['budget'].mean().round()[-11:]\n",
      "    results[genre] = grouped_year"
     ],
     "language": "python",
     "metadata": {},
     "outputs": [],
     "prompt_number": 30
    },
    {
     "cell_type": "code",
     "collapsed": false,
     "input": [
      "results"
     ],
     "language": "python",
     "metadata": {},
     "outputs": [
      {
       "html": [
        "<div style=\"max-height:1000px;max-width:1500px;overflow:auto;\">\n",
        "<table border=\"1\" class=\"dataframe\">\n",
        "  <thead>\n",
        "    <tr style=\"text-align: right;\">\n",
        "      <th></th>\n",
        "      <th>year</th>\n",
        "      <th>Action</th>\n",
        "      <th>Animation</th>\n",
        "      <th>Comedy</th>\n",
        "      <th>Drama</th>\n",
        "      <th>Documentary</th>\n",
        "      <th>Romance</th>\n",
        "      <th>Short</th>\n",
        "    </tr>\n",
        "  </thead>\n",
        "  <tbody>\n",
        "    <tr>\n",
        "      <th>1995</th>\n",
        "      <td> 1995</td>\n",
        "      <td> 43442286</td>\n",
        "      <td> 42500000</td>\n",
        "      <td> 20794586</td>\n",
        "      <td> 26166270</td>\n",
        "      <td>   25000</td>\n",
        "      <td> 32125000</td>\n",
        "      <td>    12000</td>\n",
        "    </tr>\n",
        "    <tr>\n",
        "      <th>1996</th>\n",
        "      <td> 1996</td>\n",
        "      <td> 44634734</td>\n",
        "      <td> 50000000</td>\n",
        "      <td> 19333511</td>\n",
        "      <td> 25160725</td>\n",
        "      <td>  100000</td>\n",
        "      <td> 17947000</td>\n",
        "      <td> 15030500</td>\n",
        "    </tr>\n",
        "    <tr>\n",
        "      <th>1997</th>\n",
        "      <td> 1997</td>\n",
        "      <td> 45547644</td>\n",
        "      <td> 38812500</td>\n",
        "      <td> 18463689</td>\n",
        "      <td> 23699144</td>\n",
        "      <td>  687500</td>\n",
        "      <td> 32008080</td>\n",
        "      <td>    23750</td>\n",
        "    </tr>\n",
        "    <tr>\n",
        "      <th>1998</th>\n",
        "      <td> 1998</td>\n",
        "      <td> 44478767</td>\n",
        "      <td> 38626500</td>\n",
        "      <td> 20168342</td>\n",
        "      <td> 22477417</td>\n",
        "      <td>  432400</td>\n",
        "      <td> 25816051</td>\n",
        "      <td>  6380818</td>\n",
        "    </tr>\n",
        "    <tr>\n",
        "      <th>1999</th>\n",
        "      <td> 1999</td>\n",
        "      <td> 42883900</td>\n",
        "      <td> 56371429</td>\n",
        "      <td> 23030837</td>\n",
        "      <td> 20070991</td>\n",
        "      <td>  413250</td>\n",
        "      <td> 23962500</td>\n",
        "      <td>    16812</td>\n",
        "    </tr>\n",
        "    <tr>\n",
        "      <th>2000</th>\n",
        "      <td> 2000</td>\n",
        "      <td> 42745720</td>\n",
        "      <td> 53227527</td>\n",
        "      <td> 23592090</td>\n",
        "      <td> 23380383</td>\n",
        "      <td> 1508750</td>\n",
        "      <td> 20014810</td>\n",
        "      <td>    49841</td>\n",
        "    </tr>\n",
        "    <tr>\n",
        "      <th>2001</th>\n",
        "      <td> 2001</td>\n",
        "      <td> 41756983</td>\n",
        "      <td> 51391667</td>\n",
        "      <td> 20141590</td>\n",
        "      <td> 18227640</td>\n",
        "      <td>  716000</td>\n",
        "      <td> 25110737</td>\n",
        "      <td>   161492</td>\n",
        "    </tr>\n",
        "    <tr>\n",
        "      <th>2002</th>\n",
        "      <td> 2002</td>\n",
        "      <td> 42492078</td>\n",
        "      <td> 45060000</td>\n",
        "      <td> 18065608</td>\n",
        "      <td> 17457504</td>\n",
        "      <td> 1111444</td>\n",
        "      <td> 13771951</td>\n",
        "      <td>    85818</td>\n",
        "    </tr>\n",
        "    <tr>\n",
        "      <th>2003</th>\n",
        "      <td> 2003</td>\n",
        "      <td> 44199657</td>\n",
        "      <td> 24459167</td>\n",
        "      <td> 17189722</td>\n",
        "      <td> 14049011</td>\n",
        "      <td> 2413265</td>\n",
        "      <td> 16228668</td>\n",
        "      <td>   192718</td>\n",
        "    </tr>\n",
        "    <tr>\n",
        "      <th>2004</th>\n",
        "      <td> 2004</td>\n",
        "      <td> 43023849</td>\n",
        "      <td> 43734643</td>\n",
        "      <td> 16472299</td>\n",
        "      <td> 15050086</td>\n",
        "      <td>  435222</td>\n",
        "      <td> 27595696</td>\n",
        "      <td>    53792</td>\n",
        "    </tr>\n",
        "  </tbody>\n",
        "</table>\n",
        "</div>"
       ],
       "metadata": {},
       "output_type": "pyout",
       "prompt_number": 31,
       "text": [
        "      year    Action  Animation    Comedy     Drama  Documentary   Romance  \\\n",
        "1995  1995  43442286   42500000  20794586  26166270        25000  32125000   \n",
        "1996  1996  44634734   50000000  19333511  25160725       100000  17947000   \n",
        "1997  1997  45547644   38812500  18463689  23699144       687500  32008080   \n",
        "1998  1998  44478767   38626500  20168342  22477417       432400  25816051   \n",
        "1999  1999  42883900   56371429  23030837  20070991       413250  23962500   \n",
        "2000  2000  42745720   53227527  23592090  23380383      1508750  20014810   \n",
        "2001  2001  41756983   51391667  20141590  18227640       716000  25110737   \n",
        "2002  2002  42492078   45060000  18065608  17457504      1111444  13771951   \n",
        "2003  2003  44199657   24459167  17189722  14049011      2413265  16228668   \n",
        "2004  2004  43023849   43734643  16472299  15050086       435222  27595696   \n",
        "\n",
        "         Short  \n",
        "1995     12000  \n",
        "1996  15030500  \n",
        "1997     23750  \n",
        "1998   6380818  \n",
        "1999     16812  \n",
        "2000     49841  \n",
        "2001    161492  \n",
        "2002     85818  \n",
        "2003    192718  \n",
        "2004     53792  "
       ]
      }
     ],
     "prompt_number": 31
    },
    {
     "cell_type": "code",
     "collapsed": false,
     "input": [
      "results.to_csv(filepath+'multiline.csv',index=False)"
     ],
     "language": "python",
     "metadata": {},
     "outputs": [],
     "prompt_number": 32
    },
    {
     "cell_type": "code",
     "collapsed": false,
     "input": [],
     "language": "python",
     "metadata": {},
     "outputs": []
    },
    {
     "cell_type": "code",
     "collapsed": false,
     "input": [],
     "language": "python",
     "metadata": {},
     "outputs": []
    },
    {
     "cell_type": "code",
     "collapsed": false,
     "input": [
      "avg_budget = pd.DataFrame(columns=['year', 'average_budget'])\n",
      "avg_budget.year = grouped_year.keys().values\n",
      "avg_budget.average_budget = grouped_year.values\n",
      "avg_budget.average_budget = avg_budget.average_budget.round(2)"
     ],
     "language": "python",
     "metadata": {},
     "outputs": [],
     "prompt_number": 22
    },
    {
     "cell_type": "code",
     "collapsed": false,
     "input": [
      "avg_budget"
     ],
     "language": "python",
     "metadata": {},
     "outputs": [
      {
       "html": [
        "<div style=\"max-height:1000px;max-width:1500px;overflow:auto;\">\n",
        "<table border=\"1\" class=\"dataframe\">\n",
        "  <thead>\n",
        "    <tr style=\"text-align: right;\">\n",
        "      <th></th>\n",
        "      <th>year</th>\n",
        "      <th>average_budget</th>\n",
        "    </tr>\n",
        "  </thead>\n",
        "  <tbody>\n",
        "    <tr>\n",
        "      <th>0 </th>\n",
        "      <td> 1986</td>\n",
        "      <td>  9286785.97</td>\n",
        "    </tr>\n",
        "    <tr>\n",
        "      <th>1 </th>\n",
        "      <td> 1987</td>\n",
        "      <td>  9713225.00</td>\n",
        "    </tr>\n",
        "    <tr>\n",
        "      <th>2 </th>\n",
        "      <td> 1988</td>\n",
        "      <td> 10204256.76</td>\n",
        "    </tr>\n",
        "    <tr>\n",
        "      <th>3 </th>\n",
        "      <td> 1989</td>\n",
        "      <td> 11438180.33</td>\n",
        "    </tr>\n",
        "    <tr>\n",
        "      <th>4 </th>\n",
        "      <td> 1990</td>\n",
        "      <td> 17962288.14</td>\n",
        "    </tr>\n",
        "    <tr>\n",
        "      <th>5 </th>\n",
        "      <td> 1991</td>\n",
        "      <td> 15778753.97</td>\n",
        "    </tr>\n",
        "    <tr>\n",
        "      <th>6 </th>\n",
        "      <td> 1992</td>\n",
        "      <td> 17339713.64</td>\n",
        "    </tr>\n",
        "    <tr>\n",
        "      <th>7 </th>\n",
        "      <td> 1993</td>\n",
        "      <td> 14413278.41</td>\n",
        "    </tr>\n",
        "    <tr>\n",
        "      <th>8 </th>\n",
        "      <td> 1994</td>\n",
        "      <td> 17994802.08</td>\n",
        "    </tr>\n",
        "    <tr>\n",
        "      <th>9 </th>\n",
        "      <td> 1995</td>\n",
        "      <td> 23415407.58</td>\n",
        "    </tr>\n",
        "    <tr>\n",
        "      <th>10</th>\n",
        "      <td> 1996</td>\n",
        "      <td> 22039661.78</td>\n",
        "    </tr>\n",
        "    <tr>\n",
        "      <th>11</th>\n",
        "      <td> 1997</td>\n",
        "      <td> 23978515.54</td>\n",
        "    </tr>\n",
        "    <tr>\n",
        "      <th>12</th>\n",
        "      <td> 1998</td>\n",
        "      <td> 21862434.96</td>\n",
        "    </tr>\n",
        "    <tr>\n",
        "      <th>13</th>\n",
        "      <td> 1999</td>\n",
        "      <td> 22207973.58</td>\n",
        "    </tr>\n",
        "    <tr>\n",
        "      <th>14</th>\n",
        "      <td> 2000</td>\n",
        "      <td> 23947684.40</td>\n",
        "    </tr>\n",
        "    <tr>\n",
        "      <th>15</th>\n",
        "      <td> 2001</td>\n",
        "      <td> 19235573.83</td>\n",
        "    </tr>\n",
        "    <tr>\n",
        "      <th>16</th>\n",
        "      <td> 2002</td>\n",
        "      <td> 19397139.16</td>\n",
        "    </tr>\n",
        "    <tr>\n",
        "      <th>17</th>\n",
        "      <td> 2003</td>\n",
        "      <td> 15868270.85</td>\n",
        "    </tr>\n",
        "    <tr>\n",
        "      <th>18</th>\n",
        "      <td> 2004</td>\n",
        "      <td> 13905717.32</td>\n",
        "    </tr>\n",
        "    <tr>\n",
        "      <th>19</th>\n",
        "      <td> 2005</td>\n",
        "      <td> 16468165.04</td>\n",
        "    </tr>\n",
        "  </tbody>\n",
        "</table>\n",
        "</div>"
       ],
       "metadata": {},
       "output_type": "pyout",
       "prompt_number": 23,
       "text": [
        "    year  average_budget\n",
        "0   1986      9286785.97\n",
        "1   1987      9713225.00\n",
        "2   1988     10204256.76\n",
        "3   1989     11438180.33\n",
        "4   1990     17962288.14\n",
        "5   1991     15778753.97\n",
        "6   1992     17339713.64\n",
        "7   1993     14413278.41\n",
        "8   1994     17994802.08\n",
        "9   1995     23415407.58\n",
        "10  1996     22039661.78\n",
        "11  1997     23978515.54\n",
        "12  1998     21862434.96\n",
        "13  1999     22207973.58\n",
        "14  2000     23947684.40\n",
        "15  2001     19235573.83\n",
        "16  2002     19397139.16\n",
        "17  2003     15868270.85\n",
        "18  2004     13905717.32\n",
        "19  2005     16468165.04"
       ]
      }
     ],
     "prompt_number": 23
    },
    {
     "cell_type": "code",
     "collapsed": false,
     "input": [
      "avg_budget.to_csv(filepath+'avg_budget.csv',index=False)"
     ],
     "language": "python",
     "metadata": {},
     "outputs": [],
     "prompt_number": 24
    },
    {
     "cell_type": "code",
     "collapsed": false,
     "input": [
      "data[data.Action==1].budget.mean()"
     ],
     "language": "python",
     "metadata": {},
     "outputs": [
      {
       "metadata": {},
       "output_type": "pyout",
       "prompt_number": 25,
       "text": [
        "30933235.976133652"
       ]
      }
     ],
     "prompt_number": 25
    },
    {
     "cell_type": "code",
     "collapsed": false,
     "input": [
      "data[data.Animation==1].budget.mean()"
     ],
     "language": "python",
     "metadata": {},
     "outputs": [
      {
       "metadata": {},
       "output_type": "pyout",
       "prompt_number": 27,
       "text": [
        "33265530.079365078"
       ]
      }
     ],
     "prompt_number": 27
    },
    {
     "cell_type": "code",
     "collapsed": false,
     "input": [
      "data[data.Short==1].budget.mean()"
     ],
     "language": "python",
     "metadata": {},
     "outputs": [
      {
       "metadata": {},
       "output_type": "pyout",
       "prompt_number": 28,
       "text": [
        "507122.8671171171"
       ]
      }
     ],
     "prompt_number": 28
    },
    {
     "cell_type": "code",
     "collapsed": false,
     "input": [
      "dico = dict()\n",
      "genres = ['Action', 'Animation', 'Comedy', 'Drama', 'Documentary', 'Romance', 'Short']\n",
      "dico['name'] = \"genre\"\n",
      "dico['children'] = list()\n",
      "for genre in genres:\n",
      "#     print genre\n",
      "    dico['children'].append({'name': genre, 'size': round(data[data[genre]==1].budget.mean(), 2)})\n"
     ],
     "language": "python",
     "metadata": {},
     "outputs": [],
     "prompt_number": 37
    },
    {
     "cell_type": "code",
     "collapsed": false,
     "input": [
      "dico"
     ],
     "language": "python",
     "metadata": {},
     "outputs": [
      {
       "metadata": {},
       "output_type": "pyout",
       "prompt_number": 38,
       "text": [
        "{'children': [{'name': 'Action', 'size': 30933235.98},\n",
        "  {'name': 'Animation', 'size': 33265530.08},\n",
        "  {'name': 'Comedy', 'size': 14659925.25},\n",
        "  {'name': 'Drama', 'size': 13405876.79},\n",
        "  {'name': 'Documentary', 'size': 908125.2},\n",
        "  {'name': 'Romance', 'size': 15102835.78},\n",
        "  {'name': 'Short', 'size': 507122.87}],\n",
        " 'name': 'genre'}"
       ]
      }
     ],
     "prompt_number": 38
    },
    {
     "cell_type": "code",
     "collapsed": false,
     "input": [
      "import json\n",
      "with open('/Users/flo/Desktop/MSAN/MSAN622/MSAN622/Homework4/genre.json', 'w') as f:\n",
      "  json.dump(dico, f, ensure_ascii=False)"
     ],
     "language": "python",
     "metadata": {},
     "outputs": [],
     "prompt_number": 39
    },
    {
     "cell_type": "code",
     "collapsed": false,
     "input": [
      "dico"
     ],
     "language": "python",
     "metadata": {},
     "outputs": [
      {
       "metadata": {},
       "output_type": "pyout",
       "prompt_number": 40,
       "text": [
        "{'children': [{'name': 'Action', 'size': 30933235.98},\n",
        "  {'name': 'Animation', 'size': 33265530.08},\n",
        "  {'name': 'Comedy', 'size': 14659925.25},\n",
        "  {'name': 'Drama', 'size': 13405876.79},\n",
        "  {'name': 'Documentary', 'size': 908125.2},\n",
        "  {'name': 'Romance', 'size': 15102835.78},\n",
        "  {'name': 'Short', 'size': 507122.87}],\n",
        " 'name': 'genre'}"
       ]
      }
     ],
     "prompt_number": 40
    },
    {
     "cell_type": "code",
     "collapsed": false,
     "input": [
      "results = pd.DataFrame(columns=['genre', 'size'])\n",
      "genres = ['Action', 'Animation', 'Comedy', 'Drama', 'Documentary', 'Romance', 'Short']\n",
      "for genre in genres:\n",
      "    results = results.append(pd.Series([genre, round(data[data[genre]==1].budget.mean(), 2)], index=['genre', 'size']), ignore_index=True)"
     ],
     "language": "python",
     "metadata": {},
     "outputs": [],
     "prompt_number": 54
    },
    {
     "cell_type": "code",
     "collapsed": false,
     "input": [
      "results"
     ],
     "language": "python",
     "metadata": {},
     "outputs": [
      {
       "html": [
        "<div style=\"max-height:1000px;max-width:1500px;overflow:auto;\">\n",
        "<table border=\"1\" class=\"dataframe\">\n",
        "  <thead>\n",
        "    <tr style=\"text-align: right;\">\n",
        "      <th></th>\n",
        "      <th>genre</th>\n",
        "      <th>size</th>\n",
        "    </tr>\n",
        "  </thead>\n",
        "  <tbody>\n",
        "    <tr>\n",
        "      <th>0</th>\n",
        "      <td>      Action</td>\n",
        "      <td> 30933235.98</td>\n",
        "    </tr>\n",
        "    <tr>\n",
        "      <th>1</th>\n",
        "      <td>   Animation</td>\n",
        "      <td> 33265530.08</td>\n",
        "    </tr>\n",
        "    <tr>\n",
        "      <th>2</th>\n",
        "      <td>      Comedy</td>\n",
        "      <td> 14659925.25</td>\n",
        "    </tr>\n",
        "    <tr>\n",
        "      <th>3</th>\n",
        "      <td>       Drama</td>\n",
        "      <td> 13405876.79</td>\n",
        "    </tr>\n",
        "    <tr>\n",
        "      <th>4</th>\n",
        "      <td> Documentary</td>\n",
        "      <td>   908125.20</td>\n",
        "    </tr>\n",
        "    <tr>\n",
        "      <th>5</th>\n",
        "      <td>     Romance</td>\n",
        "      <td> 15102835.78</td>\n",
        "    </tr>\n",
        "    <tr>\n",
        "      <th>6</th>\n",
        "      <td>       Short</td>\n",
        "      <td>   507122.87</td>\n",
        "    </tr>\n",
        "  </tbody>\n",
        "</table>\n",
        "</div>"
       ],
       "metadata": {},
       "output_type": "pyout",
       "prompt_number": 55,
       "text": [
        "         genre         size\n",
        "0       Action  30933235.98\n",
        "1    Animation  33265530.08\n",
        "2       Comedy  14659925.25\n",
        "3        Drama  13405876.79\n",
        "4  Documentary    908125.20\n",
        "5      Romance  15102835.78\n",
        "6        Short    507122.87"
       ]
      }
     ],
     "prompt_number": 55
    },
    {
     "cell_type": "code",
     "collapsed": false,
     "input": [
      "results.to_csv(filepath+'treemap_v0.csv')"
     ],
     "language": "python",
     "metadata": {},
     "outputs": [],
     "prompt_number": 56
    },
    {
     "cell_type": "code",
     "collapsed": false,
     "input": [],
     "language": "python",
     "metadata": {},
     "outputs": []
    },
    {
     "cell_type": "code",
     "collapsed": false,
     "input": [
      "results = pd.DataFrame(columns=['genre', 'budget'])\n",
      "genres = ['Action', 'Animation', 'Comedy', 'Drama', 'Documentary', 'Romance', 'Short']\n",
      "for genre in genres:\n",
      "    results = results.append(pd.Series([genre, round(data[(data[genre]==1)&(data.year==2005)].budget.mean())], index=['genre', 'budget']), ignore_index=True)"
     ],
     "language": "python",
     "metadata": {},
     "outputs": [],
     "prompt_number": 8
    },
    {
     "cell_type": "code",
     "collapsed": false,
     "input": [
      "results"
     ],
     "language": "python",
     "metadata": {},
     "outputs": [
      {
       "html": [
        "<div style=\"max-height:1000px;max-width:1500px;overflow:auto;\">\n",
        "<table border=\"1\" class=\"dataframe\">\n",
        "  <thead>\n",
        "    <tr style=\"text-align: right;\">\n",
        "      <th></th>\n",
        "      <th>genre</th>\n",
        "      <th>budget</th>\n",
        "    </tr>\n",
        "  </thead>\n",
        "  <tbody>\n",
        "    <tr>\n",
        "      <th>0</th>\n",
        "      <td>      Action</td>\n",
        "      <td> 32041620</td>\n",
        "    </tr>\n",
        "    <tr>\n",
        "      <th>1</th>\n",
        "      <td>   Animation</td>\n",
        "      <td> 38333333</td>\n",
        "    </tr>\n",
        "    <tr>\n",
        "      <th>2</th>\n",
        "      <td>      Comedy</td>\n",
        "      <td> 21196069</td>\n",
        "    </tr>\n",
        "    <tr>\n",
        "      <th>3</th>\n",
        "      <td>       Drama</td>\n",
        "      <td> 14579641</td>\n",
        "    </tr>\n",
        "    <tr>\n",
        "      <th>4</th>\n",
        "      <td> Documentary</td>\n",
        "      <td>   146750</td>\n",
        "    </tr>\n",
        "    <tr>\n",
        "      <th>5</th>\n",
        "      <td>     Romance</td>\n",
        "      <td> 21151818</td>\n",
        "    </tr>\n",
        "    <tr>\n",
        "      <th>6</th>\n",
        "      <td>       Short</td>\n",
        "      <td>    17455</td>\n",
        "    </tr>\n",
        "  </tbody>\n",
        "</table>\n",
        "</div>"
       ],
       "metadata": {},
       "output_type": "pyout",
       "prompt_number": 9,
       "text": [
        "         genre    budget\n",
        "0       Action  32041620\n",
        "1    Animation  38333333\n",
        "2       Comedy  21196069\n",
        "3        Drama  14579641\n",
        "4  Documentary    146750\n",
        "5      Romance  21151818\n",
        "6        Short     17455"
       ]
      }
     ],
     "prompt_number": 9
    },
    {
     "cell_type": "code",
     "collapsed": false,
     "input": [
      "results.to_csv(filepath+'barchart.csv')"
     ],
     "language": "python",
     "metadata": {},
     "outputs": [],
     "prompt_number": 10
    },
    {
     "cell_type": "code",
     "collapsed": false,
     "input": [],
     "language": "python",
     "metadata": {},
     "outputs": []
    },
    {
     "cell_type": "code",
     "collapsed": false,
     "input": [
      "results = pd.DataFrame(columns=['genre', 'r1', 'r2', 'r3', 'r4', 'r5', 'r6', 'r7', 'r8', 'r9', 'r10'])\n",
      "genres = ['All', 'Action', 'Animation', 'Comedy', 'Drama', 'Documentary', 'Romance', 'Short']\n",
      "results = results(pd.Series(['All', data.r1.mean(), data.r2.mean(), data.r3.mean(), data.r4.mean(), data.r5.mean(), data.r6.mean(), data.r7.mean(), data.r8.mean(), data.r9.mean(), data.r10.mean()], index=['genre', 'r1', 'r2', 'r3', 'r4', 'r5', 'r6', 'r7', 'r8', 'r9', 'r10']), ignore_index=True))\n",
      "for genre in genres:\n",
      "    subset = data[data[genre]==1]\n",
      "    results = results.append(pd.Series([genre, round(data[(data[genre]==1)&(data.year==2005)].budget.mean())], index=['genre', 'budget']), ignore_index=True)"
     ],
     "language": "python",
     "metadata": {},
     "outputs": []
    },
    {
     "cell_type": "code",
     "collapsed": false,
     "input": [],
     "language": "python",
     "metadata": {},
     "outputs": []
    },
    {
     "cell_type": "code",
     "collapsed": false,
     "input": [],
     "language": "python",
     "metadata": {},
     "outputs": []
    },
    {
     "cell_type": "code",
     "collapsed": false,
     "input": [],
     "language": "python",
     "metadata": {},
     "outputs": []
    },
    {
     "cell_type": "code",
     "collapsed": false,
     "input": [
      "data.to_csv(filepath+'stacked.csv',index=False)"
     ],
     "language": "python",
     "metadata": {},
     "outputs": [],
     "prompt_number": 16
    },
    {
     "cell_type": "code",
     "collapsed": false,
     "input": [],
     "language": "python",
     "metadata": {},
     "outputs": []
    },
    {
     "cell_type": "code",
     "collapsed": false,
     "input": [
      "import multiprocessing as mp"
     ],
     "language": "python",
     "metadata": {},
     "outputs": [],
     "prompt_number": 17
    },
    {
     "cell_type": "code",
     "collapsed": false,
     "input": [
      "ncores = mp.cpu_count()"
     ],
     "language": "python",
     "metadata": {},
     "outputs": [],
     "prompt_number": 18
    },
    {
     "cell_type": "code",
     "collapsed": false,
     "input": [
      "ncores"
     ],
     "language": "python",
     "metadata": {},
     "outputs": [
      {
       "metadata": {},
       "output_type": "pyout",
       "prompt_number": 19,
       "text": [
        "4"
       ]
      }
     ],
     "prompt_number": 19
    },
    {
     "cell_type": "code",
     "collapsed": false,
     "input": [
      "%%time\n",
      "t=0"
     ],
     "language": "python",
     "metadata": {},
     "outputs": [
      {
       "output_type": "stream",
       "stream": "stdout",
       "text": [
        "CPU times: user 3 \u00b5s, sys: 0 ns, total: 3 \u00b5s\n",
        "Wall time: 5.96 \u00b5s\n"
       ]
      }
     ],
     "prompt_number": 21
    },
    {
     "cell_type": "code",
     "collapsed": false,
     "input": [],
     "language": "python",
     "metadata": {},
     "outputs": []
    }
   ],
   "metadata": {}
  }
 ]
}