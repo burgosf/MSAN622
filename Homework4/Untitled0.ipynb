{
 "metadata": {
  "name": "",
  "signature": "sha256:820de1c4a84b6e19c3267021fef3b1f22f63f2b77025f69ec5e7745df74a7094"
 },
 "nbformat": 3,
 "nbformat_minor": 0,
 "worksheets": [
  {
   "cells": [
    {
     "cell_type": "code",
     "collapsed": false,
     "input": [
      "import pandas as pd\n",
      "import numpy as np\n",
      "import sys\n",
      "\n",
      "import matplotlib.pyplot as plt\n",
      "%matplotlib inline"
     ],
     "language": "python",
     "metadata": {},
     "outputs": [],
     "prompt_number": 1
    },
    {
     "cell_type": "code",
     "collapsed": false,
     "input": [
      "filepath = \"/Users/flo/Desktop/MSAN/MSAN622/MSAN622/Homework4/\""
     ],
     "language": "python",
     "metadata": {},
     "outputs": [],
     "prompt_number": 2
    },
    {
     "cell_type": "code",
     "collapsed": false,
     "input": [
      "data=pd.read_csv(filepath+'movies.csv')\n",
      "print \"data loaded\"\n",
      "print data.shape"
     ],
     "language": "python",
     "metadata": {},
     "outputs": [
      {
       "output_type": "stream",
       "stream": "stdout",
       "text": [
        "data loaded\n",
        "(58788, 24)\n"
       ]
      }
     ],
     "prompt_number": 3
    },
    {
     "cell_type": "code",
     "collapsed": false,
     "input": [
      "data.head()"
     ],
     "language": "python",
     "metadata": {},
     "outputs": [
      {
       "html": [
        "<div style=\"max-height:1000px;max-width:1500px;overflow:auto;\">\n",
        "<table border=\"1\" class=\"dataframe\">\n",
        "  <thead>\n",
        "    <tr style=\"text-align: right;\">\n",
        "      <th></th>\n",
        "      <th>title</th>\n",
        "      <th>year</th>\n",
        "      <th>length</th>\n",
        "      <th>budget</th>\n",
        "      <th>rating</th>\n",
        "      <th>votes</th>\n",
        "      <th>r1</th>\n",
        "      <th>r2</th>\n",
        "      <th>r3</th>\n",
        "      <th>r4</th>\n",
        "      <th>...</th>\n",
        "      <th>r9</th>\n",
        "      <th>r10</th>\n",
        "      <th>mpaa</th>\n",
        "      <th>Action</th>\n",
        "      <th>Animation</th>\n",
        "      <th>Comedy</th>\n",
        "      <th>Drama</th>\n",
        "      <th>Documentary</th>\n",
        "      <th>Romance</th>\n",
        "      <th>Short</th>\n",
        "    </tr>\n",
        "  </thead>\n",
        "  <tbody>\n",
        "    <tr>\n",
        "      <th>0</th>\n",
        "      <td>                        $</td>\n",
        "      <td> 1971</td>\n",
        "      <td> 121</td>\n",
        "      <td>NaN</td>\n",
        "      <td> 6.4</td>\n",
        "      <td> 348</td>\n",
        "      <td>  4.5</td>\n",
        "      <td>  4.5</td>\n",
        "      <td> 4.5</td>\n",
        "      <td>  4.5</td>\n",
        "      <td>...</td>\n",
        "      <td>  4.5</td>\n",
        "      <td>  4.5</td>\n",
        "      <td> NaN</td>\n",
        "      <td> 0</td>\n",
        "      <td> 0</td>\n",
        "      <td> 1</td>\n",
        "      <td> 1</td>\n",
        "      <td> 0</td>\n",
        "      <td> 0</td>\n",
        "      <td> 0</td>\n",
        "    </tr>\n",
        "    <tr>\n",
        "      <th>1</th>\n",
        "      <td>        $1000 a Touchdown</td>\n",
        "      <td> 1939</td>\n",
        "      <td>  71</td>\n",
        "      <td>NaN</td>\n",
        "      <td> 6.0</td>\n",
        "      <td>  20</td>\n",
        "      <td>  0.0</td>\n",
        "      <td> 14.5</td>\n",
        "      <td> 4.5</td>\n",
        "      <td> 24.5</td>\n",
        "      <td>...</td>\n",
        "      <td>  4.5</td>\n",
        "      <td> 14.5</td>\n",
        "      <td> NaN</td>\n",
        "      <td> 0</td>\n",
        "      <td> 0</td>\n",
        "      <td> 1</td>\n",
        "      <td> 0</td>\n",
        "      <td> 0</td>\n",
        "      <td> 0</td>\n",
        "      <td> 0</td>\n",
        "    </tr>\n",
        "    <tr>\n",
        "      <th>2</th>\n",
        "      <td>   $21 a Day Once a Month</td>\n",
        "      <td> 1941</td>\n",
        "      <td>   7</td>\n",
        "      <td>NaN</td>\n",
        "      <td> 8.2</td>\n",
        "      <td>   5</td>\n",
        "      <td>  0.0</td>\n",
        "      <td>  0.0</td>\n",
        "      <td> 0.0</td>\n",
        "      <td>  0.0</td>\n",
        "      <td>...</td>\n",
        "      <td> 24.5</td>\n",
        "      <td> 24.5</td>\n",
        "      <td> NaN</td>\n",
        "      <td> 0</td>\n",
        "      <td> 1</td>\n",
        "      <td> 0</td>\n",
        "      <td> 0</td>\n",
        "      <td> 0</td>\n",
        "      <td> 0</td>\n",
        "      <td> 1</td>\n",
        "    </tr>\n",
        "    <tr>\n",
        "      <th>3</th>\n",
        "      <td>                  $40,000</td>\n",
        "      <td> 1996</td>\n",
        "      <td>  70</td>\n",
        "      <td>NaN</td>\n",
        "      <td> 8.2</td>\n",
        "      <td>   6</td>\n",
        "      <td> 14.5</td>\n",
        "      <td>  0.0</td>\n",
        "      <td> 0.0</td>\n",
        "      <td>  0.0</td>\n",
        "      <td>...</td>\n",
        "      <td> 34.5</td>\n",
        "      <td> 45.5</td>\n",
        "      <td> NaN</td>\n",
        "      <td> 0</td>\n",
        "      <td> 0</td>\n",
        "      <td> 1</td>\n",
        "      <td> 0</td>\n",
        "      <td> 0</td>\n",
        "      <td> 0</td>\n",
        "      <td> 0</td>\n",
        "    </tr>\n",
        "    <tr>\n",
        "      <th>4</th>\n",
        "      <td> $50,000 Climax Show, The</td>\n",
        "      <td> 1975</td>\n",
        "      <td>  71</td>\n",
        "      <td>NaN</td>\n",
        "      <td> 3.4</td>\n",
        "      <td>  17</td>\n",
        "      <td> 24.5</td>\n",
        "      <td>  4.5</td>\n",
        "      <td> 0.0</td>\n",
        "      <td> 14.5</td>\n",
        "      <td>...</td>\n",
        "      <td>  0.0</td>\n",
        "      <td> 24.5</td>\n",
        "      <td> NaN</td>\n",
        "      <td> 0</td>\n",
        "      <td> 0</td>\n",
        "      <td> 0</td>\n",
        "      <td> 0</td>\n",
        "      <td> 0</td>\n",
        "      <td> 0</td>\n",
        "      <td> 0</td>\n",
        "    </tr>\n",
        "  </tbody>\n",
        "</table>\n",
        "<p>5 rows \u00d7 24 columns</p>\n",
        "</div>"
       ],
       "metadata": {},
       "output_type": "pyout",
       "prompt_number": 4,
       "text": [
        "                      title  year  length  budget  rating  votes    r1    r2  \\\n",
        "0                         $  1971     121     NaN     6.4    348   4.5   4.5   \n",
        "1         $1000 a Touchdown  1939      71     NaN     6.0     20   0.0  14.5   \n",
        "2    $21 a Day Once a Month  1941       7     NaN     8.2      5   0.0   0.0   \n",
        "3                   $40,000  1996      70     NaN     8.2      6  14.5   0.0   \n",
        "4  $50,000 Climax Show, The  1975      71     NaN     3.4     17  24.5   4.5   \n",
        "\n",
        "    r3    r4  ...      r9   r10  mpaa  Action  Animation  Comedy Drama  \\\n",
        "0  4.5   4.5  ...     4.5   4.5   NaN       0          0       1     1   \n",
        "1  4.5  24.5  ...     4.5  14.5   NaN       0          0       1     0   \n",
        "2  0.0   0.0  ...    24.5  24.5   NaN       0          1       0     0   \n",
        "3  0.0   0.0  ...    34.5  45.5   NaN       0          0       1     0   \n",
        "4  0.0  14.5  ...     0.0  24.5   NaN       0          0       0     0   \n",
        "\n",
        "   Documentary  Romance  Short  \n",
        "0            0        0      0  \n",
        "1            0        0      0  \n",
        "2            0        0      1  \n",
        "3            0        0      0  \n",
        "4            0        0      0  \n",
        "\n",
        "[5 rows x 24 columns]"
       ]
      }
     ],
     "prompt_number": 4
    },
    {
     "cell_type": "code",
     "collapsed": false,
     "input": [
      "grouped_year = data.groupby(['year'])['budget'].mean()[-20:]"
     ],
     "language": "python",
     "metadata": {},
     "outputs": [],
     "prompt_number": 9
    },
    {
     "cell_type": "code",
     "collapsed": false,
     "input": [
      "avg_budget = pd.DataFrame(columns=['year', 'average_budget'])\n",
      "avg_budget.year = grouped_year.keys().values\n",
      "avg_budget.average_budget = grouped_year.values\n",
      "avg_budget.average_budget = avg_budget.average_budget.round(2)"
     ],
     "language": "python",
     "metadata": {},
     "outputs": [],
     "prompt_number": 22
    },
    {
     "cell_type": "code",
     "collapsed": false,
     "input": [
      "avg_budget"
     ],
     "language": "python",
     "metadata": {},
     "outputs": [
      {
       "html": [
        "<div style=\"max-height:1000px;max-width:1500px;overflow:auto;\">\n",
        "<table border=\"1\" class=\"dataframe\">\n",
        "  <thead>\n",
        "    <tr style=\"text-align: right;\">\n",
        "      <th></th>\n",
        "      <th>year</th>\n",
        "      <th>average_budget</th>\n",
        "    </tr>\n",
        "  </thead>\n",
        "  <tbody>\n",
        "    <tr>\n",
        "      <th>0 </th>\n",
        "      <td> 1986</td>\n",
        "      <td>  9286785.97</td>\n",
        "    </tr>\n",
        "    <tr>\n",
        "      <th>1 </th>\n",
        "      <td> 1987</td>\n",
        "      <td>  9713225.00</td>\n",
        "    </tr>\n",
        "    <tr>\n",
        "      <th>2 </th>\n",
        "      <td> 1988</td>\n",
        "      <td> 10204256.76</td>\n",
        "    </tr>\n",
        "    <tr>\n",
        "      <th>3 </th>\n",
        "      <td> 1989</td>\n",
        "      <td> 11438180.33</td>\n",
        "    </tr>\n",
        "    <tr>\n",
        "      <th>4 </th>\n",
        "      <td> 1990</td>\n",
        "      <td> 17962288.14</td>\n",
        "    </tr>\n",
        "    <tr>\n",
        "      <th>5 </th>\n",
        "      <td> 1991</td>\n",
        "      <td> 15778753.97</td>\n",
        "    </tr>\n",
        "    <tr>\n",
        "      <th>6 </th>\n",
        "      <td> 1992</td>\n",
        "      <td> 17339713.64</td>\n",
        "    </tr>\n",
        "    <tr>\n",
        "      <th>7 </th>\n",
        "      <td> 1993</td>\n",
        "      <td> 14413278.41</td>\n",
        "    </tr>\n",
        "    <tr>\n",
        "      <th>8 </th>\n",
        "      <td> 1994</td>\n",
        "      <td> 17994802.08</td>\n",
        "    </tr>\n",
        "    <tr>\n",
        "      <th>9 </th>\n",
        "      <td> 1995</td>\n",
        "      <td> 23415407.58</td>\n",
        "    </tr>\n",
        "    <tr>\n",
        "      <th>10</th>\n",
        "      <td> 1996</td>\n",
        "      <td> 22039661.78</td>\n",
        "    </tr>\n",
        "    <tr>\n",
        "      <th>11</th>\n",
        "      <td> 1997</td>\n",
        "      <td> 23978515.54</td>\n",
        "    </tr>\n",
        "    <tr>\n",
        "      <th>12</th>\n",
        "      <td> 1998</td>\n",
        "      <td> 21862434.96</td>\n",
        "    </tr>\n",
        "    <tr>\n",
        "      <th>13</th>\n",
        "      <td> 1999</td>\n",
        "      <td> 22207973.58</td>\n",
        "    </tr>\n",
        "    <tr>\n",
        "      <th>14</th>\n",
        "      <td> 2000</td>\n",
        "      <td> 23947684.40</td>\n",
        "    </tr>\n",
        "    <tr>\n",
        "      <th>15</th>\n",
        "      <td> 2001</td>\n",
        "      <td> 19235573.83</td>\n",
        "    </tr>\n",
        "    <tr>\n",
        "      <th>16</th>\n",
        "      <td> 2002</td>\n",
        "      <td> 19397139.16</td>\n",
        "    </tr>\n",
        "    <tr>\n",
        "      <th>17</th>\n",
        "      <td> 2003</td>\n",
        "      <td> 15868270.85</td>\n",
        "    </tr>\n",
        "    <tr>\n",
        "      <th>18</th>\n",
        "      <td> 2004</td>\n",
        "      <td> 13905717.32</td>\n",
        "    </tr>\n",
        "    <tr>\n",
        "      <th>19</th>\n",
        "      <td> 2005</td>\n",
        "      <td> 16468165.04</td>\n",
        "    </tr>\n",
        "  </tbody>\n",
        "</table>\n",
        "</div>"
       ],
       "metadata": {},
       "output_type": "pyout",
       "prompt_number": 23,
       "text": [
        "    year  average_budget\n",
        "0   1986      9286785.97\n",
        "1   1987      9713225.00\n",
        "2   1988     10204256.76\n",
        "3   1989     11438180.33\n",
        "4   1990     17962288.14\n",
        "5   1991     15778753.97\n",
        "6   1992     17339713.64\n",
        "7   1993     14413278.41\n",
        "8   1994     17994802.08\n",
        "9   1995     23415407.58\n",
        "10  1996     22039661.78\n",
        "11  1997     23978515.54\n",
        "12  1998     21862434.96\n",
        "13  1999     22207973.58\n",
        "14  2000     23947684.40\n",
        "15  2001     19235573.83\n",
        "16  2002     19397139.16\n",
        "17  2003     15868270.85\n",
        "18  2004     13905717.32\n",
        "19  2005     16468165.04"
       ]
      }
     ],
     "prompt_number": 23
    },
    {
     "cell_type": "code",
     "collapsed": false,
     "input": [
      "avg_budget.to_csv(filepath+'avg_budget.csv',index=False)"
     ],
     "language": "python",
     "metadata": {},
     "outputs": [],
     "prompt_number": 24
    },
    {
     "cell_type": "code",
     "collapsed": false,
     "input": [
      "data[data.Action==1].budget.mean()"
     ],
     "language": "python",
     "metadata": {},
     "outputs": [
      {
       "metadata": {},
       "output_type": "pyout",
       "prompt_number": 25,
       "text": [
        "30933235.976133652"
       ]
      }
     ],
     "prompt_number": 25
    },
    {
     "cell_type": "code",
     "collapsed": false,
     "input": [
      "data[data.Animation==1].budget.mean()"
     ],
     "language": "python",
     "metadata": {},
     "outputs": [
      {
       "metadata": {},
       "output_type": "pyout",
       "prompt_number": 27,
       "text": [
        "33265530.079365078"
       ]
      }
     ],
     "prompt_number": 27
    },
    {
     "cell_type": "code",
     "collapsed": false,
     "input": [
      "data[data.Short==1].budget.mean()"
     ],
     "language": "python",
     "metadata": {},
     "outputs": [
      {
       "metadata": {},
       "output_type": "pyout",
       "prompt_number": 28,
       "text": [
        "507122.8671171171"
       ]
      }
     ],
     "prompt_number": 28
    },
    {
     "cell_type": "code",
     "collapsed": false,
     "input": [
      "dico = dict()\n",
      "genres = ['Action', 'Animation', 'Comedy', 'Drama', 'Documentary', 'Romance', 'Short']\n",
      "dico[\"name\"] = \"genre\"\n",
      "dico[\"children\"] = list()\n",
      "for genre in genres:\n",
      "    print genre\n",
      "    dico[\"children\"].append({\"name\": genre, \"budget\": round(data[data[genre]==1].budget.mean(), 2)})\n"
     ],
     "language": "python",
     "metadata": {},
     "outputs": [
      {
       "output_type": "stream",
       "stream": "stdout",
       "text": [
        "Action\n",
        "Animation\n",
        "Comedy\n",
        "Drama\n",
        "Documentary\n",
        "Romance\n",
        "Short\n"
       ]
      }
     ],
     "prompt_number": 34
    },
    {
     "cell_type": "code",
     "collapsed": false,
     "input": [
      "dico"
     ],
     "language": "python",
     "metadata": {},
     "outputs": [
      {
       "metadata": {},
       "output_type": "pyout",
       "prompt_number": 35,
       "text": [
        "{'children': [{'budget': 30933235.98, 'name': 'Action'},\n",
        "  {'budget': 33265530.08, 'name': 'Animation'},\n",
        "  {'budget': 14659925.25, 'name': 'Comedy'},\n",
        "  {'budget': 13405876.79, 'name': 'Drama'},\n",
        "  {'budget': 908125.2, 'name': 'Documentary'},\n",
        "  {'budget': 15102835.78, 'name': 'Romance'},\n",
        "  {'budget': 507122.87, 'name': 'Short'}],\n",
        " 'name': 'genre'}"
       ]
      }
     ],
     "prompt_number": 35
    },
    {
     "cell_type": "code",
     "collapsed": false,
     "input": [
      "import json\n",
      "with open('/Users/flo/Desktop/MSAN/MSAN622/MSAN622/Homework4/avg_budget_genre.txt', 'w') as f:\n",
      "  json.dump(dico, f, ensure_ascii=False)"
     ],
     "language": "python",
     "metadata": {},
     "outputs": [],
     "prompt_number": 36
    },
    {
     "cell_type": "code",
     "collapsed": false,
     "input": [],
     "language": "python",
     "metadata": {},
     "outputs": []
    },
    {
     "cell_type": "code",
     "collapsed": false,
     "input": [],
     "language": "python",
     "metadata": {},
     "outputs": []
    },
    {
     "cell_type": "code",
     "collapsed": false,
     "input": [],
     "language": "python",
     "metadata": {},
     "outputs": []
    },
    {
     "cell_type": "code",
     "collapsed": false,
     "input": [],
     "language": "python",
     "metadata": {},
     "outputs": []
    },
    {
     "cell_type": "code",
     "collapsed": false,
     "input": [
      "data.to_csv(filepath+'stacked.csv',index=False)"
     ],
     "language": "python",
     "metadata": {},
     "outputs": [],
     "prompt_number": 16
    },
    {
     "cell_type": "code",
     "collapsed": false,
     "input": [],
     "language": "python",
     "metadata": {},
     "outputs": []
    },
    {
     "cell_type": "code",
     "collapsed": false,
     "input": [
      "import multiprocessing as mp"
     ],
     "language": "python",
     "metadata": {},
     "outputs": [],
     "prompt_number": 17
    },
    {
     "cell_type": "code",
     "collapsed": false,
     "input": [
      "ncores = mp.cpu_count()"
     ],
     "language": "python",
     "metadata": {},
     "outputs": [],
     "prompt_number": 18
    },
    {
     "cell_type": "code",
     "collapsed": false,
     "input": [
      "ncores"
     ],
     "language": "python",
     "metadata": {},
     "outputs": [
      {
       "metadata": {},
       "output_type": "pyout",
       "prompt_number": 19,
       "text": [
        "4"
       ]
      }
     ],
     "prompt_number": 19
    },
    {
     "cell_type": "code",
     "collapsed": false,
     "input": [
      "%%time\n",
      "t=0"
     ],
     "language": "python",
     "metadata": {},
     "outputs": [
      {
       "output_type": "stream",
       "stream": "stdout",
       "text": [
        "CPU times: user 3 \u00b5s, sys: 0 ns, total: 3 \u00b5s\n",
        "Wall time: 5.96 \u00b5s\n"
       ]
      }
     ],
     "prompt_number": 21
    },
    {
     "cell_type": "code",
     "collapsed": false,
     "input": [],
     "language": "python",
     "metadata": {},
     "outputs": []
    }
   ],
   "metadata": {}
  }
 ]
}