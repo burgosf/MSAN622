{
 "metadata": {
  "name": "",
  "signature": "sha256:4f0303ebe6a4ed0e76b250f03aad9b2c75642a359def3019c05dcfa268e90024"
 },
 "nbformat": 3,
 "nbformat_minor": 0,
 "worksheets": [
  {
   "cells": [
    {
     "cell_type": "code",
     "collapsed": false,
     "input": [
      "#!/usr/bin/env python\n",
      "\n",
      "import urllib2\n",
      "import pytz\n",
      "import pandas as pd\n",
      "\n",
      "from bs4 import BeautifulSoup\n",
      "from datetime import datetime\n",
      "from datetime import timedelta\n",
      "from pandas.io.data import DataReader\n",
      "\n",
      "\n",
      "\n",
      "# def store_HDF5(sector_ohlc, path):\n",
      "#     with pd.get_store(path) as store:\n",
      "#         for sector, ohlc in sector_ohlc.iteritems():\n",
      "#             store[sector] = ohlc\n",
      "\n",
      "\n",
      "# def get_snp500():\n",
      "#     sector_tickers = scrape_list(SITE)\n",
      "#     sector_ohlc = download_ohlc(sector_tickers, START, END)\n",
      "#     print sector_ohlc\n",
      "#     # store_HDF5(sector_ohlc, 'snp500.h5')\n"
     ],
     "language": "python",
     "metadata": {},
     "outputs": [],
     "prompt_number": 3
    },
    {
     "cell_type": "code",
     "collapsed": false,
     "input": [
      "SITE = \"http://en.wikipedia.org/wiki/List_of_S%26P_500_companies\"\n",
      "START = datetime(2015, 4, 30, 0, 0, 0, 0, pytz.utc)\n",
      "END = datetime(2015, 5, 9, 0, 0, 0, 0, pytz.utc)\n"
     ],
     "language": "python",
     "metadata": {},
     "outputs": [],
     "prompt_number": 9
    },
    {
     "cell_type": "code",
     "collapsed": false,
     "input": [
      "def scrape_list(site):\n",
      "    hdr = {'User-Agent': 'Mozilla/5.0'}\n",
      "    req = urllib2.Request(site, headers=hdr)\n",
      "    page = urllib2.urlopen(req)\n",
      "    soup = BeautifulSoup(page)\n",
      "\n",
      "    table = soup.find('table', {'class': 'wikitable sortable'})\n",
      "    sector_tickers = dict()\n",
      "    for row in table.findAll('tr'):\n",
      "        col = row.findAll('td')\n",
      "        if len(col) > 0:\n",
      "            sector = str(col[3].string.strip()).lower().replace(' ', '_')\n",
      "            ticker = str(col[0].string.strip())\n",
      "            if sector not in sector_tickers:\n",
      "                sector_tickers[sector] = list()\n",
      "            sector_tickers[sector].append(ticker)\n",
      "    return sector_tickers\n"
     ],
     "language": "python",
     "metadata": {},
     "outputs": [],
     "prompt_number": 5
    },
    {
     "cell_type": "code",
     "collapsed": false,
     "input": [
      "sector_tickers = scrape_list(SITE)"
     ],
     "language": "python",
     "metadata": {},
     "outputs": [],
     "prompt_number": 6
    },
    {
     "cell_type": "code",
     "collapsed": false,
     "input": [
      "sector_tickers['consumer_discretionary']"
     ],
     "language": "python",
     "metadata": {},
     "outputs": [
      {
       "metadata": {},
       "output_type": "pyout",
       "prompt_number": 35,
       "text": [
        "['AMZN',\n",
        " 'AN',\n",
        " 'AZO',\n",
        " 'BBBY',\n",
        " 'BBY',\n",
        " 'BWA',\n",
        " 'CVC',\n",
        " 'KMX',\n",
        " 'CCL',\n",
        " 'CBS',\n",
        " 'CMG',\n",
        " 'COH',\n",
        " 'CMCSA',\n",
        " 'DHI',\n",
        " 'DRI',\n",
        " 'DLPH',\n",
        " 'DTV',\n",
        " 'DISCA',\n",
        " 'DISCK',\n",
        " 'DG',\n",
        " 'DLTR',\n",
        " 'EXPE',\n",
        " 'FDO',\n",
        " 'F',\n",
        " 'FOSL',\n",
        " 'GME',\n",
        " 'GCI',\n",
        " 'GPS',\n",
        " 'GRMN',\n",
        " 'GM',\n",
        " 'GPC',\n",
        " 'GT',\n",
        " 'HBI',\n",
        " 'HOG',\n",
        " 'HAR',\n",
        " 'HAS',\n",
        " 'HD',\n",
        " 'IPG',\n",
        " 'JCI',\n",
        " 'KSS',\n",
        " 'LB',\n",
        " 'LEN',\n",
        " 'LOW',\n",
        " 'M',\n",
        " 'MAR',\n",
        " 'MAT',\n",
        " 'MCD',\n",
        " 'KORS',\n",
        " 'MHK',\n",
        " 'NWL',\n",
        " 'NWSA',\n",
        " 'NKE',\n",
        " 'JWN',\n",
        " 'ORLY',\n",
        " 'OMC',\n",
        " 'RL',\n",
        " 'PCLN',\n",
        " 'PHM',\n",
        " 'PVH',\n",
        " 'ROST',\n",
        " 'RCL',\n",
        " 'SNI',\n",
        " 'SNA',\n",
        " 'SWK',\n",
        " 'SPLS',\n",
        " 'SBUX',\n",
        " 'HOT',\n",
        " 'TGT',\n",
        " 'TIF',\n",
        " 'TWX',\n",
        " 'TWC',\n",
        " 'TJX',\n",
        " 'TSCO',\n",
        " 'TRIP',\n",
        " 'FOXA',\n",
        " 'UA',\n",
        " 'URBN',\n",
        " 'VFC',\n",
        " 'VIAB',\n",
        " 'DIS',\n",
        " 'WHR',\n",
        " 'WYN',\n",
        " 'WYNN',\n",
        " 'YUM']"
       ]
      }
     ],
     "prompt_number": 35
    },
    {
     "cell_type": "code",
     "collapsed": false,
     "input": [
      "data = DataReader(sector_tickers['consumer_discretionary'], 'yahoo', START, END)\n",
      "data.drop(['Open', 'High', 'Low', 'Adj Close', 'Volume'], inplace=True)"
     ],
     "language": "python",
     "metadata": {},
     "outputs": [],
     "prompt_number": 37
    },
    {
     "cell_type": "heading",
     "level": 3,
     "metadata": {},
     "source": [
      "constructing the sector indexes"
     ]
    },
    {
     "cell_type": "code",
     "collapsed": false,
     "input": [
      "sectors = dict()\n",
      "for sector in sector_tickers.keys():\n",
      "    returns = dict()\n",
      "    # get the equiweighted perf of the sector\n",
      "    for date in range(START, END):\n",
      "        start = date\n",
      "        end = start + timedelta(days=1)\n",
      "        for stock in sector_tickers[sector]:\n",
      "            data = DataReader(stock, 'yahoo', start, end)\n",
      "            "
     ],
     "language": "python",
     "metadata": {},
     "outputs": []
    },
    {
     "cell_type": "code",
     "collapsed": false,
     "input": [],
     "language": "python",
     "metadata": {},
     "outputs": []
    },
    {
     "cell_type": "code",
     "collapsed": false,
     "input": [],
     "language": "python",
     "metadata": {},
     "outputs": []
    },
    {
     "cell_type": "code",
     "collapsed": false,
     "input": [
      "data[\"Date\"] = data.index"
     ],
     "language": "python",
     "metadata": {},
     "outputs": [],
     "prompt_number": 26
    },
    {
     "cell_type": "code",
     "collapsed": false,
     "input": [
      "data.reset_index()"
     ],
     "language": "python",
     "metadata": {},
     "outputs": [
      {
       "ename": "ValueError",
       "evalue": "cannot insert Date, already exists",
       "output_type": "pyerr",
       "traceback": [
        "\u001b[0;31m---------------------------------------------------------------------------\u001b[0m\n\u001b[0;31mValueError\u001b[0m                                Traceback (most recent call last)",
        "\u001b[0;32m<ipython-input-27-f16b98f1e2ef>\u001b[0m in \u001b[0;36m<module>\u001b[0;34m()\u001b[0m\n\u001b[0;32m----> 1\u001b[0;31m \u001b[0mdata\u001b[0m\u001b[0;34m.\u001b[0m\u001b[0mreset_index\u001b[0m\u001b[0;34m(\u001b[0m\u001b[0;34m)\u001b[0m\u001b[0;34m\u001b[0m\u001b[0m\n\u001b[0m",
        "\u001b[0;32m/usr/local/lib/python2.7/site-packages/pandas/core/frame.pyc\u001b[0m in \u001b[0;36mreset_index\u001b[0;34m(self, level, drop, inplace, col_level, col_fill)\u001b[0m\n\u001b[1;32m   2611\u001b[0m                     \u001b[0mname\u001b[0m \u001b[0;34m=\u001b[0m \u001b[0mtuple\u001b[0m\u001b[0;34m(\u001b[0m\u001b[0mname_lst\u001b[0m\u001b[0;34m)\u001b[0m\u001b[0;34m\u001b[0m\u001b[0m\n\u001b[1;32m   2612\u001b[0m             \u001b[0mvalues\u001b[0m \u001b[0;34m=\u001b[0m \u001b[0m_maybe_casted_values\u001b[0m\u001b[0;34m(\u001b[0m\u001b[0mself\u001b[0m\u001b[0;34m.\u001b[0m\u001b[0mindex\u001b[0m\u001b[0;34m)\u001b[0m\u001b[0;34m\u001b[0m\u001b[0m\n\u001b[0;32m-> 2613\u001b[0;31m             \u001b[0mnew_obj\u001b[0m\u001b[0;34m.\u001b[0m\u001b[0minsert\u001b[0m\u001b[0;34m(\u001b[0m\u001b[0;36m0\u001b[0m\u001b[0;34m,\u001b[0m \u001b[0mname\u001b[0m\u001b[0;34m,\u001b[0m \u001b[0mvalues\u001b[0m\u001b[0;34m)\u001b[0m\u001b[0;34m\u001b[0m\u001b[0m\n\u001b[0m\u001b[1;32m   2614\u001b[0m \u001b[0;34m\u001b[0m\u001b[0m\n\u001b[1;32m   2615\u001b[0m         \u001b[0mnew_obj\u001b[0m\u001b[0;34m.\u001b[0m\u001b[0mindex\u001b[0m \u001b[0;34m=\u001b[0m \u001b[0mnew_index\u001b[0m\u001b[0;34m\u001b[0m\u001b[0m\n",
        "\u001b[0;32m/usr/local/lib/python2.7/site-packages/pandas/core/frame.pyc\u001b[0m in \u001b[0;36minsert\u001b[0;34m(self, loc, column, value, allow_duplicates)\u001b[0m\n\u001b[1;32m   2211\u001b[0m         \u001b[0mvalue\u001b[0m \u001b[0;34m=\u001b[0m \u001b[0mself\u001b[0m\u001b[0;34m.\u001b[0m\u001b[0m_sanitize_column\u001b[0m\u001b[0;34m(\u001b[0m\u001b[0mcolumn\u001b[0m\u001b[0;34m,\u001b[0m \u001b[0mvalue\u001b[0m\u001b[0;34m)\u001b[0m\u001b[0;34m\u001b[0m\u001b[0m\n\u001b[1;32m   2212\u001b[0m         self._data.insert(\n\u001b[0;32m-> 2213\u001b[0;31m             loc, column, value, allow_duplicates=allow_duplicates)\n\u001b[0m\u001b[1;32m   2214\u001b[0m \u001b[0;34m\u001b[0m\u001b[0m\n\u001b[1;32m   2215\u001b[0m     \u001b[0;32mdef\u001b[0m \u001b[0m_sanitize_column\u001b[0m\u001b[0;34m(\u001b[0m\u001b[0mself\u001b[0m\u001b[0;34m,\u001b[0m \u001b[0mkey\u001b[0m\u001b[0;34m,\u001b[0m \u001b[0mvalue\u001b[0m\u001b[0;34m)\u001b[0m\u001b[0;34m:\u001b[0m\u001b[0;34m\u001b[0m\u001b[0m\n",
        "\u001b[0;32m/usr/local/lib/python2.7/site-packages/pandas/core/internals.pyc\u001b[0m in \u001b[0;36minsert\u001b[0;34m(self, loc, item, value, allow_duplicates)\u001b[0m\n\u001b[1;32m   3071\u001b[0m         \u001b[0;32mif\u001b[0m \u001b[0;32mnot\u001b[0m \u001b[0mallow_duplicates\u001b[0m \u001b[0;32mand\u001b[0m \u001b[0mitem\u001b[0m \u001b[0;32min\u001b[0m \u001b[0mself\u001b[0m\u001b[0;34m.\u001b[0m\u001b[0mitems\u001b[0m\u001b[0;34m:\u001b[0m\u001b[0;34m\u001b[0m\u001b[0m\n\u001b[1;32m   3072\u001b[0m             \u001b[0;31m# Should this be a different kind of error??\u001b[0m\u001b[0;34m\u001b[0m\u001b[0;34m\u001b[0m\u001b[0m\n\u001b[0;32m-> 3073\u001b[0;31m             \u001b[0;32mraise\u001b[0m \u001b[0mValueError\u001b[0m\u001b[0;34m(\u001b[0m\u001b[0;34m'cannot insert %s, already exists'\u001b[0m \u001b[0;34m%\u001b[0m \u001b[0mitem\u001b[0m\u001b[0;34m)\u001b[0m\u001b[0;34m\u001b[0m\u001b[0m\n\u001b[0m\u001b[1;32m   3074\u001b[0m \u001b[0;34m\u001b[0m\u001b[0m\n\u001b[1;32m   3075\u001b[0m         \u001b[0;32mif\u001b[0m \u001b[0;32mnot\u001b[0m \u001b[0misinstance\u001b[0m\u001b[0;34m(\u001b[0m\u001b[0mloc\u001b[0m\u001b[0;34m,\u001b[0m \u001b[0mint\u001b[0m\u001b[0;34m)\u001b[0m\u001b[0;34m:\u001b[0m\u001b[0;34m\u001b[0m\u001b[0m\n",
        "\u001b[0;31mValueError\u001b[0m: cannot insert Date, already exists"
       ]
      }
     ],
     "prompt_number": 27
    },
    {
     "cell_type": "code",
     "collapsed": false,
     "input": [
      "data"
     ],
     "language": "python",
     "metadata": {},
     "outputs": [
      {
       "html": [
        "<div style=\"max-height:1000px;max-width:1500px;overflow:auto;\">\n",
        "<table border=\"1\" class=\"dataframe\">\n",
        "  <thead>\n",
        "    <tr style=\"text-align: right;\">\n",
        "      <th></th>\n",
        "      <th>Close</th>\n",
        "      <th>Date</th>\n",
        "    </tr>\n",
        "    <tr>\n",
        "      <th>Date</th>\n",
        "      <th></th>\n",
        "      <th></th>\n",
        "    </tr>\n",
        "  </thead>\n",
        "  <tbody>\n",
        "    <tr>\n",
        "      <th>2015-04-30</th>\n",
        "      <td> 125.15</td>\n",
        "      <td>2015-04-30</td>\n",
        "    </tr>\n",
        "    <tr>\n",
        "      <th>2015-05-01</th>\n",
        "      <td> 128.95</td>\n",
        "      <td>2015-05-01</td>\n",
        "    </tr>\n",
        "    <tr>\n",
        "      <th>2015-05-04</th>\n",
        "      <td> 128.70</td>\n",
        "      <td>2015-05-04</td>\n",
        "    </tr>\n",
        "    <tr>\n",
        "      <th>2015-05-05</th>\n",
        "      <td> 125.80</td>\n",
        "      <td>2015-05-05</td>\n",
        "    </tr>\n",
        "    <tr>\n",
        "      <th>2015-05-06</th>\n",
        "      <td> 125.01</td>\n",
        "      <td>2015-05-06</td>\n",
        "    </tr>\n",
        "    <tr>\n",
        "      <th>2015-05-07</th>\n",
        "      <td> 125.26</td>\n",
        "      <td>2015-05-07</td>\n",
        "    </tr>\n",
        "    <tr>\n",
        "      <th>2015-05-08</th>\n",
        "      <td> 127.62</td>\n",
        "      <td>2015-05-08</td>\n",
        "    </tr>\n",
        "  </tbody>\n",
        "</table>\n",
        "</div>"
       ],
       "metadata": {},
       "output_type": "pyout",
       "prompt_number": 28,
       "text": [
        "             Close       Date\n",
        "Date                         \n",
        "2015-04-30  125.15 2015-04-30\n",
        "2015-05-01  128.95 2015-05-01\n",
        "2015-05-04  128.70 2015-05-04\n",
        "2015-05-05  125.80 2015-05-05\n",
        "2015-05-06  125.01 2015-05-06\n",
        "2015-05-07  125.26 2015-05-07\n",
        "2015-05-08  127.62 2015-05-08"
       ]
      }
     ],
     "prompt_number": 28
    },
    {
     "cell_type": "code",
     "collapsed": false,
     "input": [
      "def download_ohlc(sector_tickers, start, end):\n",
      "    sector_ohlc = {}\n",
      "    # df = pd.DataFrame()\n",
      "    for sector, tickers in sector_tickers.iteritems():\n",
      "        print 'Downloading data from Yahoo for %s sector' % sector\n",
      "        data = DataReader(tickers, 'yahoo', start, end)\n",
      "        # for item in ['Open', 'High', 'Low']:\n",
      "        #     data[item] = data[item] * data['Adj Close'] / data['Close']\n",
      "        # data.rename(items={'Open': 'open', 'High': 'high', 'Low': 'low',\n",
      "        #                    'Adj Close': 'close', 'Volume': 'volume'},\n",
      "        #             inplace=True)\n",
      "        data.drop(['Open', 'High', 'Low', 'Adj Close'], inplace=True)\n",
      "        # df = df.append(pd.DataFrame(data))\n",
      "        # print data\n",
      "        sector_ohlc[sector] = data\n",
      "    print 'Finished downloading data'\n",
      "    # print pd.DataFrame(data)\n",
      "    # return df\n"
     ],
     "language": "python",
     "metadata": {},
     "outputs": []
    },
    {
     "cell_type": "code",
     "collapsed": false,
     "input": [
      "import tables"
     ],
     "language": "python",
     "metadata": {},
     "outputs": [
      {
       "ename": "ImportError",
       "evalue": "No module named tables",
       "output_type": "pyerr",
       "traceback": [
        "\u001b[0;31m---------------------------------------------------------------------------\u001b[0m\n\u001b[0;31mImportError\u001b[0m                               Traceback (most recent call last)",
        "\u001b[0;32m<ipython-input-31-389ecae14f10>\u001b[0m in \u001b[0;36m<module>\u001b[0;34m()\u001b[0m\n\u001b[0;32m----> 1\u001b[0;31m \u001b[0;32mimport\u001b[0m \u001b[0mtables\u001b[0m\u001b[0;34m\u001b[0m\u001b[0m\n\u001b[0m",
        "\u001b[0;31mImportError\u001b[0m: No module named tables"
       ]
      }
     ],
     "prompt_number": 31
    },
    {
     "cell_type": "code",
     "collapsed": false,
     "input": [],
     "language": "python",
     "metadata": {},
     "outputs": []
    }
   ],
   "metadata": {}
  }
 ]
}